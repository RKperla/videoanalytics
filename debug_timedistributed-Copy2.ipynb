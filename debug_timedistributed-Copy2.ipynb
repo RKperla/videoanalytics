{
 "cells": [
  {
   "cell_type": "code",
   "execution_count": 1,
   "metadata": {},
   "outputs": [
    {
     "name": "stderr",
     "output_type": "stream",
     "text": [
      "/anaconda2/lib/python2.7/site-packages/h5py/__init__.py:36: FutureWarning: Conversion of the second argument of issubdtype from `float` to `np.floating` is deprecated. In future, it will be treated as `np.float64 == np.dtype(float).type`.\n",
      "  from ._conv import register_converters as _register_converters\n",
      "Using TensorFlow backend.\n"
     ]
    }
   ],
   "source": [
    "from __future__ import division\n",
    "import random\n",
    "import pprint\n",
    "import sys\n",
    "import time\n",
    "import numpy as np\n",
    "from optparse import OptionParser\n",
    "import pickle\n",
    "import cv2\n",
    "import pandas as pd\n",
    "\n",
    "from keras import backend as K\n",
    "from keras.optimizers import Adam, SGD, RMSprop\n",
    "from keras.layers import Input\n",
    "from keras.models import Model\n",
    "from keras_frcnn import config, data_generators\n",
    "from keras_frcnn import losses as losses\n",
    "import keras_frcnn.roi_helpers as roi_helpers\n",
    "from keras.utils import generic_utils\n",
    "from keras_frcnn.mylayer import mylayer\n",
    "from keras.callbacks import ModelCheckpoint, LearningRateScheduler, TensorBoard, EarlyStopping\n",
    "\n",
    "K.set_learning_phase(1) #set learning phase\n",
    "\n",
    "# sys.setrecursionlimit(40000)"
   ]
  },
  {
   "cell_type": "code",
   "execution_count": 2,
   "metadata": {},
   "outputs": [],
   "source": [
    "network ='vgg'\n",
    "\n",
    "if network == 'vgg':\n",
    "\tfrom keras_frcnn import vgg as nn\n",
    "elif network == 'resnet50':\n",
    "\tfrom keras_frcnn import resnet as nn\n",
    "else:\n",
    "\tprint('Not a valid model')\n",
    "\traise ValueError\n"
   ]
  },
  {
   "cell_type": "code",
   "execution_count": 3,
   "metadata": {},
   "outputs": [
    {
     "name": "stdout",
     "output_type": "stream",
     "text": [
      "WARNING:tensorflow:From /anaconda2/lib/python2.7/site-packages/tensorflow/python/framework/op_def_library.py:263: colocate_with (from tensorflow.python.framework.ops) is deprecated and will be removed in a future version.\n",
      "Instructions for updating:\n",
      "Colocations handled automatically by placer.\n",
      "Tensor(\"mylayer_1/Reshape:0\", shape=(1, 6, 4, 4, 512), dtype=float32)\n",
      "WARNING:tensorflow:From /anaconda2/lib/python2.7/site-packages/keras/backend/tensorflow_backend.py:3445: calling dropout (from tensorflow.python.ops.nn_ops) with keep_prob is deprecated and will be removed in a future version.\n",
      "Instructions for updating:\n",
      "Please use `rate` instead of `keep_prob`. Rate should be set to `rate = 1 - keep_prob`.\n",
      "loading weights from pretrained model\n"
     ]
    }
   ],
   "source": [
    "from keras_frcnn.RoiPoolingConv import RoiPoolingConv\n",
    "from keras.layers import GlobalAveragePooling2D, GlobalMaxPooling2D, TimeDistributed\n",
    "from keras.layers import Flatten, Dense, Input, Conv2D, MaxPooling2D, Dropout\n",
    "\n",
    "if K.image_dim_ordering() == 'th':\n",
    "\tinput_shape_img = (3, None, None)\n",
    "else:\n",
    "\tinput_shape_img = (400, 400, 3)\n",
    "\n",
    "img_input = Input(shape=input_shape_img)\n",
    "roi_input = Input(shape=(6, 4))\n",
    "nb_classes = 575\n",
    "\n",
    "#pdb.set_trace()\n",
    "num_rois = 6\n",
    "# compile times on theano tend to be very high, so we use smaller ROI pooling regions to workaround\n",
    "\n",
    "if K.backend() == 'tensorflow':\n",
    "    pooling_regions = 4\n",
    "    input_shape = (num_rois,4,4,512)\n",
    "elif K.backend() == 'theano':\n",
    "    pooling_regions = 7\n",
    "    input_shape = (num_rois,512,7,7)\n",
    "\n",
    "# define the base network (resnet here, can be VGG, Inception, etc)\n",
    "shared_layers = nn.nn_base(img_input, trainable=True)\n",
    "\n",
    "\n",
    "out_roi_pool = mylayer(pooling_regions, 6)([shared_layers, roi_input])\n",
    "print out_roi_pool\n",
    "\n",
    "out = (Flatten(name='flatten'))(out_roi_pool)\n",
    "out = (Dense(4096, activation='relu', name='fc5'))(out)\n",
    "out = (Dropout(0.5))(out)\n",
    "out = (Dense(2048, activation='relu', name='fc6'))(out)\n",
    "out = (Dropout(0.5))(out)\n",
    "out = (Dense(512, activation='relu', name='fc7'))(out)\n",
    "out_class = (Dense(46, activation='sigmoid', kernel_initializer='zero'))(out)\n",
    "\n",
    "model_classifier = Model([img_input, roi_input], out_class)\n",
    "\n",
    "\n",
    "try:\n",
    "\tprint('loading weights from pretrained model')\n",
    "\tmodel_classifier.load_weights('vgg16_weights_tf_dim_ordering_tf_kernels.h5', by_name=True)\n",
    "except:\n",
    "\tprint('Could not load pretrained model weights. Weights can be found in the keras application folder \\\n",
    "\t\thttps://github.com/fchollet/keras/tree/master/keras/applications')\n",
    "\n",
    "optimizer = Adam(lr=1e-5)\n",
    "optimizer_classifier = Adam(lr=1e-5)\n",
    "model_classifier.compile(optimizer=optimizer_classifier, loss = 'binary_crossentropy', metrics= ['accuracy'])\n",
    "\n"
   ]
  },
  {
   "cell_type": "code",
   "execution_count": 4,
   "metadata": {},
   "outputs": [],
   "source": [
    "def name(x):\n",
    "    name = str.split(x,'/')\n",
    "    return '/Users/1024329/Downloads/DeepFashion/img_n/' + name[1] + '/' + name[2]\n",
    "    \n",
    "df3 = pd.read_pickle('upper_body_atts.pkl')\n",
    "df3['img_name'] = df3['img_name'].apply(lambda x:name(x))"
   ]
  },
  {
   "cell_type": "code",
   "execution_count": 5,
   "metadata": {},
   "outputs": [
    {
     "data": {
      "text/html": [
       "<div>\n",
       "<style scoped>\n",
       "    .dataframe tbody tr th:only-of-type {\n",
       "        vertical-align: middle;\n",
       "    }\n",
       "\n",
       "    .dataframe tbody tr th {\n",
       "        vertical-align: top;\n",
       "    }\n",
       "\n",
       "    .dataframe thead th {\n",
       "        text-align: right;\n",
       "    }\n",
       "</style>\n",
       "<table border=\"1\" class=\"dataframe\">\n",
       "  <thead>\n",
       "    <tr style=\"text-align: right;\">\n",
       "      <th></th>\n",
       "      <th>img_name</th>\n",
       "      <th>landmarks</th>\n",
       "      <th>atts</th>\n",
       "    </tr>\n",
       "  </thead>\n",
       "  <tbody>\n",
       "    <tr>\n",
       "      <th>0</th>\n",
       "      <td>/Users/1024329/Downloads/DeepFashion/img_n/Lon...</td>\n",
       "      <td>[[96, 2, 60, 60], [165, 2, 60, 60], [300, 153,...</td>\n",
       "      <td>[99, 495, 571, 881, 940]</td>\n",
       "    </tr>\n",
       "    <tr>\n",
       "      <th>1</th>\n",
       "      <td>/Users/1024329/Downloads/DeepFashion/img_n/Hoo...</td>\n",
       "      <td>[[105, 5, 60, 60], [255, 3, 60, 60], [26, 195,...</td>\n",
       "      <td>[470, 953]</td>\n",
       "    </tr>\n",
       "    <tr>\n",
       "      <th>2</th>\n",
       "      <td>/Users/1024329/Downloads/DeepFashion/img_n/Rea...</td>\n",
       "      <td>[[126, 36, 60, 60], [244, 42, 60, 60], [67, 3,...</td>\n",
       "      <td>[745, 883]</td>\n",
       "    </tr>\n",
       "    <tr>\n",
       "      <th>3</th>\n",
       "      <td>/Users/1024329/Downloads/DeepFashion/img_n/Flo...</td>\n",
       "      <td>[[67, 8, 60, 60], [217, 2, 60, 60], [24, 167, ...</td>\n",
       "      <td>[142, 306, 365]</td>\n",
       "    </tr>\n",
       "    <tr>\n",
       "      <th>4</th>\n",
       "      <td>/Users/1024329/Downloads/DeepFashion/img_n/Bea...</td>\n",
       "      <td>[[51, 68, 60, 60], [280, 80, 60, 60], [25, 13,...</td>\n",
       "      <td>[50, 121, 122, 226, 681]</td>\n",
       "    </tr>\n",
       "  </tbody>\n",
       "</table>\n",
       "</div>"
      ],
      "text/plain": [
       "                                            img_name  \\\n",
       "0  /Users/1024329/Downloads/DeepFashion/img_n/Lon...   \n",
       "1  /Users/1024329/Downloads/DeepFashion/img_n/Hoo...   \n",
       "2  /Users/1024329/Downloads/DeepFashion/img_n/Rea...   \n",
       "3  /Users/1024329/Downloads/DeepFashion/img_n/Flo...   \n",
       "4  /Users/1024329/Downloads/DeepFashion/img_n/Bea...   \n",
       "\n",
       "                                           landmarks                      atts  \n",
       "0  [[96, 2, 60, 60], [165, 2, 60, 60], [300, 153,...  [99, 495, 571, 881, 940]  \n",
       "1  [[105, 5, 60, 60], [255, 3, 60, 60], [26, 195,...                [470, 953]  \n",
       "2  [[126, 36, 60, 60], [244, 42, 60, 60], [67, 3,...                [745, 883]  \n",
       "3  [[67, 8, 60, 60], [217, 2, 60, 60], [24, 167, ...           [142, 306, 365]  \n",
       "4  [[51, 68, 60, 60], [280, 80, 60, 60], [25, 13,...  [50, 121, 122, 226, 681]  "
      ]
     },
     "execution_count": 5,
     "metadata": {},
     "output_type": "execute_result"
    }
   ],
   "source": [
    "df3 = df3[['img_name','landmarks','atts']]\n",
    "df3.head()"
   ]
  },
  {
   "cell_type": "code",
   "execution_count": 6,
   "metadata": {},
   "outputs": [
    {
     "name": "stdout",
     "output_type": "stream",
     "text": [
      "another 1000 0\n"
     ]
    }
   ],
   "source": [
    "\n",
    "img = []\n",
    "landmarks = []\n",
    "attribs = []\n",
    "for i in range(30):\n",
    "    if i%1000 == 0:\n",
    "        print 'another 1000', i \n",
    "    a = cv2.imread(df3.loc[i,'img_name'])\n",
    "    a = cv2.resize(a,(400,400))\n",
    "    img.append(a)\n",
    "    lnd = df3.loc[i,'landmarks']\n",
    "    landmarks.append(lnd)\n",
    "    atts = df3.loc[i,'atts']\n",
    "    attribs.append(atts)"
   ]
  },
  {
   "cell_type": "code",
   "execution_count": 7,
   "metadata": {},
   "outputs": [],
   "source": [
    "# removing the samples without any attribute present in it\n",
    "sample = df3['atts'].apply(lambda x: x.shape[0]>0)\n",
    "df4 =df3[sample]\n",
    "df4.shape, df3.shape\n",
    "# checking the maximum value of the attribute label\n",
    "df4['atts'].apply(lambda x: np.max(x)).max()\n",
    "\n",
    "# reset index of df4\n",
    "df4 = df4.reset_index(drop = True)"
   ]
  },
  {
   "cell_type": "code",
   "execution_count": 8,
   "metadata": {},
   "outputs": [],
   "source": [
    "# from sklearn.preprocessing import MultiLabelBinarizer\n",
    "# mlb = MultiLabelBinarizer()\n",
    "\n",
    "# X = np.array(img)\n",
    "# X2 = np.array(landmarks)\n",
    "# Y = mlb.fit_transform(attribs)\n",
    "# X2 = (X2/4).astype(int)\n",
    "# print 'shapes of input and output', X.shape, X2.shape, Y.shape\n"
   ]
  },
  {
   "cell_type": "code",
   "execution_count": 9,
   "metadata": {},
   "outputs": [
    {
     "data": {
      "text/plain": [
       "(132290, 3)"
      ]
     },
     "execution_count": 9,
     "metadata": {},
     "output_type": "execute_result"
    }
   ],
   "source": [
    "df4.shape"
   ]
  },
  {
   "cell_type": "code",
   "execution_count": 10,
   "metadata": {},
   "outputs": [
    {
     "name": "stdout",
     "output_type": "stream",
     "text": [
      "0\n",
      "10000\n",
      "20000\n",
      "30000\n",
      "40000\n",
      "50000\n",
      "60000\n",
      "70000\n",
      "80000\n",
      "90000\n",
      "100000\n",
      "110000\n",
      "120000\n",
      "130000\n"
     ]
    }
   ],
   "source": [
    "vals = np.array([])\n",
    "for i in range(df4.shape[0]):\n",
    "    if i%10000 ==0: print i\n",
    "    vals = np.concatenate([vals,df4.loc[i,'atts']]) "
   ]
  },
  {
   "cell_type": "code",
   "execution_count": 11,
   "metadata": {},
   "outputs": [],
   "source": [
    "import matplotlib.pyplot as plt\n",
    "his = plt.hist(vals,bins =1000)\n",
    "select =  np.nonzero(his[0] > 1000)"
   ]
  },
  {
   "cell_type": "code",
   "execution_count": 28,
   "metadata": {},
   "outputs": [
    {
     "data": {
      "image/png": "[encoded data removed]",
      "text/plain": [
       "<Figure size 432x288 with 1 Axes>"
      ]
     },
     "metadata": {},
     "output_type": "display_data"
    }
   ],
   "source": [
    "plt.hist(vals,bins =1000)\n",
    "plt.show()"
   ]
  },
  {
   "cell_type": "code",
   "execution_count": 40,
   "metadata": {},
   "outputs": [
    {
     "data": {
      "text/plain": [
       "(102,)"
      ]
     },
     "execution_count": 40,
     "metadata": {},
     "output_type": "execute_result"
    }
   ],
   "source": [
    "(np.nonzero(his[0]>1000))[0].shape"
   ]
  },
  {
   "cell_type": "code",
   "execution_count": 12,
   "metadata": {},
   "outputs": [
    {
     "data": {
      "text/plain": [
       "(46,)"
      ]
     },
     "execution_count": 12,
     "metadata": {},
     "output_type": "execute_result"
    }
   ],
   "source": [
    "select[0].shape"
   ]
  },
  {
   "cell_type": "code",
   "execution_count": 13,
   "metadata": {},
   "outputs": [],
   "source": [
    "def selecting(x,select):\n",
    "    s = [i for i in x if i in (select[0])]\n",
    "    return s"
   ]
  },
  {
   "cell_type": "code",
   "execution_count": 14,
   "metadata": {},
   "outputs": [],
   "source": [
    "df4['select46_atts'] = df4['atts'].apply(lambda x: selecting(x,select))"
   ]
  },
  {
   "cell_type": "code",
   "execution_count": 15,
   "metadata": {},
   "outputs": [
    {
     "data": {
      "text/html": [
       "<div>\n",
       "<style scoped>\n",
       "    .dataframe tbody tr th:only-of-type {\n",
       "        vertical-align: middle;\n",
       "    }\n",
       "\n",
       "    .dataframe tbody tr th {\n",
       "        vertical-align: top;\n",
       "    }\n",
       "\n",
       "    .dataframe thead th {\n",
       "        text-align: right;\n",
       "    }\n",
       "</style>\n",
       "<table border=\"1\" class=\"dataframe\">\n",
       "  <thead>\n",
       "    <tr style=\"text-align: right;\">\n",
       "      <th></th>\n",
       "      <th>img_name</th>\n",
       "      <th>landmarks</th>\n",
       "      <th>atts</th>\n",
       "      <th>select46_atts</th>\n",
       "    </tr>\n",
       "  </thead>\n",
       "  <tbody>\n",
       "    <tr>\n",
       "      <th>0</th>\n",
       "      <td>/Users/1024329/Downloads/DeepFashion/img_n/Lon...</td>\n",
       "      <td>[[96, 2, 60, 60], [165, 2, 60, 60], [300, 153,...</td>\n",
       "      <td>[99, 495, 571, 881, 940]</td>\n",
       "      <td>[495, 571]</td>\n",
       "    </tr>\n",
       "    <tr>\n",
       "      <th>1</th>\n",
       "      <td>/Users/1024329/Downloads/DeepFashion/img_n/Hoo...</td>\n",
       "      <td>[[105, 5, 60, 60], [255, 3, 60, 60], [26, 195,...</td>\n",
       "      <td>[470, 953]</td>\n",
       "      <td>[470]</td>\n",
       "    </tr>\n",
       "    <tr>\n",
       "      <th>2</th>\n",
       "      <td>/Users/1024329/Downloads/DeepFashion/img_n/Rea...</td>\n",
       "      <td>[[126, 36, 60, 60], [244, 42, 60, 60], [67, 3,...</td>\n",
       "      <td>[745, 883]</td>\n",
       "      <td>[745, 883]</td>\n",
       "    </tr>\n",
       "    <tr>\n",
       "      <th>3</th>\n",
       "      <td>/Users/1024329/Downloads/DeepFashion/img_n/Flo...</td>\n",
       "      <td>[[67, 8, 60, 60], [217, 2, 60, 60], [24, 167, ...</td>\n",
       "      <td>[142, 306, 365]</td>\n",
       "      <td>[142, 365]</td>\n",
       "    </tr>\n",
       "    <tr>\n",
       "      <th>4</th>\n",
       "      <td>/Users/1024329/Downloads/DeepFashion/img_n/Bea...</td>\n",
       "      <td>[[51, 68, 60, 60], [280, 80, 60, 60], [25, 13,...</td>\n",
       "      <td>[50, 121, 122, 226, 681]</td>\n",
       "      <td>[226]</td>\n",
       "    </tr>\n",
       "  </tbody>\n",
       "</table>\n",
       "</div>"
      ],
      "text/plain": [
       "                                            img_name  \\\n",
       "0  /Users/1024329/Downloads/DeepFashion/img_n/Lon...   \n",
       "1  /Users/1024329/Downloads/DeepFashion/img_n/Hoo...   \n",
       "2  /Users/1024329/Downloads/DeepFashion/img_n/Rea...   \n",
       "3  /Users/1024329/Downloads/DeepFashion/img_n/Flo...   \n",
       "4  /Users/1024329/Downloads/DeepFashion/img_n/Bea...   \n",
       "\n",
       "                                           landmarks  \\\n",
       "0  [[96, 2, 60, 60], [165, 2, 60, 60], [300, 153,...   \n",
       "1  [[105, 5, 60, 60], [255, 3, 60, 60], [26, 195,...   \n",
       "2  [[126, 36, 60, 60], [244, 42, 60, 60], [67, 3,...   \n",
       "3  [[67, 8, 60, 60], [217, 2, 60, 60], [24, 167, ...   \n",
       "4  [[51, 68, 60, 60], [280, 80, 60, 60], [25, 13,...   \n",
       "\n",
       "                       atts select46_atts  \n",
       "0  [99, 495, 571, 881, 940]    [495, 571]  \n",
       "1                [470, 953]         [470]  \n",
       "2                [745, 883]    [745, 883]  \n",
       "3           [142, 306, 365]    [142, 365]  \n",
       "4  [50, 121, 122, 226, 681]         [226]  "
      ]
     },
     "execution_count": 15,
     "metadata": {},
     "output_type": "execute_result"
    }
   ],
   "source": [
    "df4.head()"
   ]
  },
  {
   "cell_type": "code",
   "execution_count": 16,
   "metadata": {},
   "outputs": [],
   "source": [
    "# removing the samples without any attribute present in it\n",
    "sample = df4['select46_atts'].apply(lambda x: np.array(x).shape[0]>0)\n",
    "df5 =df4[sample]\n",
    "df5.shape, df4.shape\n",
    "# checking the maximum value of the attribute label\n",
    "df5['select46_atts'].apply(lambda x: np.max(x)).max()\n",
    "\n",
    "# reset index of df4\n",
    "df5 = df5.reset_index(drop = True)"
   ]
  },
  {
   "cell_type": "code",
   "execution_count": 17,
   "metadata": {},
   "outputs": [
    {
     "name": "stdout",
     "output_type": "stream",
     "text": [
      "0\n",
      "10000\n",
      "20000\n",
      "30000\n",
      "40000\n",
      "50000\n",
      "60000\n",
      "70000\n",
      "80000\n",
      "90000\n",
      "100000\n"
     ]
    }
   ],
   "source": [
    "vals_new = np.array([])\n",
    "for i in range(df5.shape[0]):\n",
    "    if i %10000==0: print i\n",
    "    vals_new = np.concatenate([vals_new,df5.loc[i,'select46_atts']]) "
   ]
  },
  {
   "cell_type": "code",
   "execution_count": 18,
   "metadata": {},
   "outputs": [],
   "source": [
    "# if i % 1000 ==0: print 'epoch and sample:', j, i\n",
    "# X,X2,Y = get_batch(i)\n",
    "# history = model_classifier.fit(x=[X,X2], y= Y)\n",
    "# los = los + np.array(history.history['loss'])\n",
    "# acc = acc + np.array(history.history['acc'])\n",
    "        "
   ]
  },
  {
   "cell_type": "code",
   "execution_count": 19,
   "metadata": {},
   "outputs": [],
   "source": [
    "df5['select46_atts'] = df5['select46_atts'].apply(lambda x: np.array(x))"
   ]
  },
  {
   "cell_type": "code",
   "execution_count": 20,
   "metadata": {},
   "outputs": [],
   "source": [
    "def get_batch(i):\n",
    "    a = cv2.imread(df4.loc[i,'img_name'])\n",
    "    a = cv2.resize(a,(400,400))\n",
    "    img = np.array(a).reshape(1,400,400,3)\n",
    "    lnd = df4.loc[i,'landmarks']\n",
    "    landmarks = (np.array(lnd)/8).astype(int).reshape(1,6,4)\n",
    "    atts = df4.loc[i,'atts']\n",
    "    labels = np.array([0 if k not in atts else 1 for k in range(1000)]).reshape(1,1000)\n",
    "    return img, landmarks, labels"
   ]
  },
  {
   "cell_type": "code",
   "execution_count": 21,
   "metadata": {},
   "outputs": [
    {
     "data": {
      "text/plain": [
       "array([  1,  93, 112, 142, 162, 181, 196, 207, 212, 226, 227, 254, 310,\n",
       "       335, 365, 380, 441, 470, 495, 513, 546, 568, 571, 574, 577, 601,\n",
       "       640, 695, 705, 720, 730, 745, 751, 754, 760, 818, 822, 836, 837,\n",
       "       883, 884, 892, 935, 956, 983, 993])"
      ]
     },
     "execution_count": 21,
     "metadata": {},
     "output_type": "execute_result"
    }
   ],
   "source": [
    "select[0]"
   ]
  },
  {
   "cell_type": "code",
   "execution_count": 22,
   "metadata": {},
   "outputs": [],
   "source": [
    "def get_batch_new(num):\n",
    "    #print num\n",
    "    a = cv2.imread(df5.loc[num,'img_name'])\n",
    "    a = cv2.resize(a,(400,400))\n",
    "    img = np.array(a).reshape(1,400,400,3)\n",
    "    lnd = df5.loc[num,'landmarks']\n",
    "    landmarks = (np.array(lnd)/8).astype(int).reshape(1,6,4)\n",
    "    atts = df5.loc[num,'select46_atts']\n",
    "    labels = np.array([0 if item not in atts else 1 for item in select[0]]).reshape(1,46)\n",
    "    return img/255, landmarks, labels"
   ]
  },
  {
   "cell_type": "code",
   "execution_count": 25,
   "metadata": {},
   "outputs": [
    {
     "data": {
      "text/plain": [
       "array([  1,  93, 112, 142, 162, 181, 196, 207, 212, 226, 227, 254, 310,\n",
       "       335, 365, 380, 441, 470, 495, 513, 546, 568, 571, 574, 577, 601,\n",
       "       640, 695, 705, 720, 730, 745, 751, 754, 760, 818, 822, 836, 837,\n",
       "       883, 884, 892, 935, 956, 983, 993])"
      ]
     },
     "execution_count": 25,
     "metadata": {},
     "output_type": "execute_result"
    }
   ],
   "source": [
    "select[0]"
   ]
  },
  {
   "cell_type": "code",
   "execution_count": 81,
   "metadata": {},
   "outputs": [
    {
     "name": "stdout",
     "output_type": "stream",
     "text": [
      "epoch number: 0\n",
      "epoch and sample: 0 0\n",
      "Epoch 1/1\n",
      " - 26s - loss: 0.6931 - acc: 0.9565\n",
      "Epoch 1/1\n",
      " - 11s - loss: 0.6926 - acc: 0.9348\n",
      "Epoch 1/1\n",
      " - 12s - loss: 0.6921 - acc: 0.9130\n",
      "Epoch 1/1\n",
      " - 10s - loss: 0.6916 - acc: 0.9130\n",
      "Epoch 1/1\n",
      " - 11s - loss: 0.6903 - acc: 0.9783\n",
      "Epoch 1/1\n",
      " - 13s - loss: 0.6898 - acc: 0.9783\n",
      "Epoch 1/1\n",
      " - 9s - loss: 0.6894 - acc: 0.9130\n",
      "Epoch 1/1\n",
      " - 9s - loss: 0.6883 - acc: 0.9565\n",
      "Epoch 1/1\n",
      " - 9s - loss: 0.6879 - acc: 0.9565\n",
      "Epoch 1/1\n",
      " - 9s - loss: 0.6859 - acc: 0.9565\n",
      "epoch number: 1\n",
      "epoch and sample: 1 0\n",
      "Epoch 1/1\n",
      " - 9s - loss: 0.6857 - acc: 0.9565\n",
      "Epoch 1/1\n",
      " - 9s - loss: 0.6828 - acc: 0.9783\n",
      "Epoch 1/1\n",
      " - 9s - loss: 0.6817 - acc: 0.9565\n",
      "Epoch 1/1\n",
      " - 10s - loss: 0.6789 - acc: 0.9565\n",
      "Epoch 1/1\n",
      " - 9s - loss: 0.6756 - acc: 0.9783\n",
      "Epoch 1/1\n",
      " - 8s - loss: 0.6763 - acc: 0.9783\n",
      "Epoch 1/1\n",
      " - 9s - loss: 0.6751 - acc: 0.9130\n",
      "Epoch 1/1\n",
      " - 9s - loss: 0.6689 - acc: 0.9565\n",
      "Epoch 1/1\n",
      " - 9s - loss: 0.6701 - acc: 0.9565\n",
      "Epoch 1/1\n",
      " - 11s - loss: 0.6628 - acc: 0.9565\n",
      "epoch number: 2\n",
      "epoch and sample: 2 0\n",
      "Epoch 1/1\n",
      " - 10s - loss: 0.6560 - acc: 0.9565\n",
      "Epoch 1/1\n",
      " - 9s - loss: 0.6525 - acc: 0.9783\n",
      "Epoch 1/1\n",
      " - 9s - loss: 0.6485 - acc: 0.9565\n",
      "Epoch 1/1\n",
      " - 8s - loss: 0.6320 - acc: 0.9565\n",
      "Epoch 1/1\n",
      " - 8s - loss: 0.6301 - acc: 0.9783\n",
      "Epoch 1/1\n",
      " - 9s - loss: 0.6264 - acc: 0.9783\n",
      "Epoch 1/1\n",
      " - 9s - loss: 0.6104 - acc: 0.9130\n",
      "Epoch 1/1\n",
      " - 9s - loss: 0.5887 - acc: 0.9565\n",
      "Epoch 1/1\n",
      " - 9s - loss: 0.5747 - acc: 0.9565\n",
      "Epoch 1/1\n",
      " - 9s - loss: 0.5436 - acc: 0.9565\n",
      "epoch number: 3\n",
      "epoch and sample: 3 0\n",
      "Epoch 1/1\n",
      " - 8s - loss: 0.4986 - acc: 0.9565\n",
      "Epoch 1/1\n",
      " - 8s - loss: 0.4728 - acc: 0.9783\n",
      "Epoch 1/1\n",
      " - 9s - loss: 0.3954 - acc: 0.9565\n",
      "Epoch 1/1\n",
      " - 9s - loss: 0.3680 - acc: 0.9565\n",
      "Epoch 1/1\n",
      " - 9s - loss: 0.2781 - acc: 0.9783\n",
      "Epoch 1/1\n",
      " - 9s - loss: 0.2542 - acc: 0.9783\n",
      "Epoch 1/1\n",
      " - 9s - loss: 0.2735 - acc: 0.9130\n",
      "Epoch 1/1\n",
      " - 9s - loss: 0.2142 - acc: 0.9565\n",
      "Epoch 1/1\n",
      " - 8s - loss: 0.1590 - acc: 0.9565\n",
      "Epoch 1/1\n",
      " - 9s - loss: 0.1398 - acc: 0.9565\n",
      "epoch number: 4\n",
      "epoch and sample: 4 0\n",
      "Epoch 1/1\n",
      " - 9s - loss: 0.1155 - acc: 0.9565\n",
      "Epoch 1/1\n",
      " - 9s - loss: 0.1175 - acc: 0.9783\n",
      "Epoch 1/1\n",
      " - 10s - loss: 0.2295 - acc: 0.9565\n",
      "Epoch 1/1\n",
      " - 9s - loss: 0.2700 - acc: 0.9565\n",
      "Epoch 1/1\n",
      " - 9s - loss: 0.1015 - acc: 0.9783\n",
      "Epoch 1/1\n",
      " - 9s - loss: 0.0543 - acc: 0.9783\n",
      "Epoch 1/1\n",
      " - 10s - loss: 0.4951 - acc: 0.9130\n",
      "Epoch 1/1\n",
      " - 9s - loss: 0.2224 - acc: 0.9565\n",
      "Epoch 1/1\n",
      " - 8s - loss: 0.1463 - acc: 0.9565\n",
      "Epoch 1/1\n",
      " - 8s - loss: 0.1347 - acc: 0.9565\n",
      "epoch number: 5\n",
      "epoch and sample: 5 0\n",
      "Epoch 1/1\n",
      " - 9s - loss: 0.0961 - acc: 0.9565\n",
      "Epoch 1/1\n",
      " - 9s - loss: 0.0974 - acc: 0.9783\n",
      "Epoch 1/1\n",
      " - 9s - loss: 0.1465 - acc: 0.9565\n",
      "Epoch 1/1\n",
      " - 9s - loss: 0.1658 - acc: 0.9565\n",
      "Epoch 1/1\n",
      " - 9s - loss: 0.0739 - acc: 0.9783\n",
      "Epoch 1/1\n",
      " - 9s - loss: 0.0770 - acc: 0.9783\n",
      "Epoch 1/1\n",
      " - 9s - loss: 0.2403 - acc: 0.9130\n",
      "Epoch 1/1\n",
      " - 11s - loss: 0.1677 - acc: 0.9565\n",
      "Epoch 1/1\n",
      " - 8s - loss: 0.1313 - acc: 0.9565\n",
      "Epoch 1/1\n",
      " - 9s - loss: 0.1274 - acc: 0.9565\n",
      "epoch number: 6\n",
      "epoch and sample: 6 0\n",
      "Epoch 1/1\n",
      " - 9s - loss: 0.1147 - acc: 0.9565\n",
      "Epoch 1/1\n",
      " - 9s - loss: 0.1105 - acc: 0.9783\n",
      "Epoch 1/1\n",
      " - 9s - loss: 0.1320 - acc: 0.9565\n",
      "Epoch 1/1\n",
      " - 10s - loss: 0.1574 - acc: 0.9565\n",
      "Epoch 1/1\n",
      " - 10s - loss: 0.0740 - acc: 0.9783\n",
      "Epoch 1/1\n",
      " - 9s - loss: 0.0742 - acc: 0.9783\n",
      "Epoch 1/1\n",
      " - 9s - loss: 0.2292 - acc: 0.9130\n",
      "Epoch 1/1\n",
      " - 9s - loss: 0.1599 - acc: 0.9565\n",
      "Epoch 1/1\n",
      " - 9s - loss: 0.1105 - acc: 0.9565\n",
      "Epoch 1/1\n",
      " - 9s - loss: 0.1180 - acc: 0.9565\n",
      "epoch number: 7\n",
      "epoch and sample: 7 0\n",
      "Epoch 1/1\n",
      " - 9s - loss: 0.0868 - acc: 0.9565\n",
      "Epoch 1/1\n",
      " - 9s - loss: 0.1032 - acc: 0.9783\n",
      "Epoch 1/1\n",
      " - 8s - loss: 0.1282 - acc: 0.9565\n",
      "Epoch 1/1\n",
      " - 9s - loss: 0.1560 - acc: 0.9565\n",
      "Epoch 1/1\n",
      " - 8s - loss: 0.0699 - acc: 0.9783\n",
      "Epoch 1/1\n",
      " - 9s - loss: 0.0537 - acc: 0.9783\n",
      "Epoch 1/1\n",
      " - 9s - loss: 0.2521 - acc: 0.9130\n",
      "Epoch 1/1\n",
      " - 9s - loss: 0.1619 - acc: 0.9565\n",
      "Epoch 1/1\n",
      " - 8s - loss: 0.1039 - acc: 0.9565\n",
      "Epoch 1/1\n",
      " - 8s - loss: 0.1167 - acc: 0.9565\n",
      "epoch number: 8\n",
      "epoch and sample: 8 0\n",
      "Epoch 1/1\n",
      " - 9s - loss: 0.0840 - acc: 0.9565\n",
      "Epoch 1/1\n",
      " - 8s - loss: 0.0951 - acc: 0.9783\n",
      "Epoch 1/1\n",
      " - 9s - loss: 0.1358 - acc: 0.9565\n",
      "Epoch 1/1\n",
      " - 9s - loss: 0.1555 - acc: 0.9565\n",
      "Epoch 1/1\n",
      " - 9s - loss: 0.0698 - acc: 0.9783\n",
      "Epoch 1/1\n",
      " - 9s - loss: 0.0563 - acc: 0.9783\n",
      "Epoch 1/1\n",
      " - 9s - loss: 0.2307 - acc: 0.9130\n",
      "Epoch 1/1\n",
      " - 10s - loss: 0.1548 - acc: 0.9565\n",
      "Epoch 1/1\n",
      " - 11s - loss: 0.1042 - acc: 0.9565\n",
      "Epoch 1/1\n",
      " - 9s - loss: 0.1163 - acc: 0.9565\n",
      "epoch number: 9\n",
      "epoch and sample: 9 0\n",
      "Epoch 1/1\n",
      " - 10s - loss: 0.0923 - acc: 0.9565\n",
      "Epoch 1/1\n",
      " - 9s - loss: 0.0994 - acc: 0.9783\n",
      "Epoch 1/1\n",
      " - 9s - loss: 0.1226 - acc: 0.9565\n",
      "Epoch 1/1\n",
      " - 9s - loss: 0.1505 - acc: 0.9565\n",
      "Epoch 1/1\n",
      " - 9s - loss: 0.0660 - acc: 0.9783\n",
      "Epoch 1/1\n",
      " - 9s - loss: 0.0608 - acc: 0.9783\n",
      "Epoch 1/1\n",
      " - 9s - loss: 0.2261 - acc: 0.9130\n",
      "Epoch 1/1\n",
      " - 8s - loss: 0.1515 - acc: 0.9565\n",
      "Epoch 1/1\n",
      " - 8s - loss: 0.1025 - acc: 0.9565\n",
      "Epoch 1/1\n",
      " - 9s - loss: 0.1167 - acc: 0.9565\n"
     ]
    }
   ],
   "source": [
    "train_loss = []\n",
    "# train_acc = []\n",
    "for j in range(20):\n",
    "    print 'epoch number:', j\n",
    "    los = 0\n",
    "    acc = 0\n",
    "    for i in range(2000):\n",
    "        if i % 1000 ==0: print 'epoch and sample:', j, i\n",
    "        X,X2,Y = get_batch_new(i)\n",
    "        history = model_classifier.fit(x=[X,X2], y= Y, verbose = 2)\n",
    "        los = los + np.array(history.history['loss'])\n",
    "        #acc = acc + np.array(history.history['acc'])\n",
    "        #print los\n",
    "    train_loss.append(los)\n",
    "    model_classifier.save_weights('atts_46model.h5')\n",
    "    #train_acc.append(acc)\n",
    "    #print train_loss, train_acc\n",
    "        "
   ]
  },
  {
   "cell_type": "code",
   "execution_count": 93,
   "metadata": {},
   "outputs": [],
   "source": [
    "xa,xb,ya = get_batch_new(10)\n",
    "out_att = model_classifier.predict([xa,xb])"
   ]
  },
  {
   "cell_type": "code",
   "execution_count": 94,
   "metadata": {},
   "outputs": [
    {
     "data": {
      "text/plain": [
       "array([[0, 0, 0, 0, 0, 0, 0, 0, 0, 0, 0, 0, 0, 0, 0, 0, 0, 0, 0, 0, 0, 0,\n",
       "        0, 0, 0, 0, 0, 0, 0, 0, 1, 0, 0, 0, 0, 0, 0, 0, 0, 0, 0, 0, 0, 0,\n",
       "        0, 0]])"
      ]
     },
     "execution_count": 94,
     "metadata": {},
     "output_type": "execute_result"
    }
   ],
   "source": [
    "ya"
   ]
  },
  {
   "cell_type": "code",
   "execution_count": 95,
   "metadata": {},
   "outputs": [
    {
     "name": "stdout",
     "output_type": "stream",
     "text": [
      "(array([0]), array([30])) (array([0, 0, 0, 0]), array([ 9, 18, 22, 31]))\n"
     ]
    }
   ],
   "source": [
    "print np.nonzero(ya>0), np.nonzero(out_att > 0.1)"
   ]
  },
  {
   "cell_type": "code",
   "execution_count": 296,
   "metadata": {},
   "outputs": [
    {
     "data": {
      "text/html": [
       "<div>\n",
       "<style scoped>\n",
       "    .dataframe tbody tr th:only-of-type {\n",
       "        vertical-align: middle;\n",
       "    }\n",
       "\n",
       "    .dataframe tbody tr th {\n",
       "        vertical-align: top;\n",
       "    }\n",
       "\n",
       "    .dataframe thead th {\n",
       "        text-align: right;\n",
       "    }\n",
       "</style>\n",
       "<table border=\"1\" class=\"dataframe\">\n",
       "  <thead>\n",
       "    <tr style=\"text-align: right;\">\n",
       "      <th></th>\n",
       "      <th>img_name</th>\n",
       "      <th>landmarks</th>\n",
       "      <th>atts</th>\n",
       "      <th>select46_atts</th>\n",
       "    </tr>\n",
       "  </thead>\n",
       "  <tbody>\n",
       "    <tr>\n",
       "      <th>0</th>\n",
       "      <td>/Users/1024329/Downloads/DeepFashion/img_n/Lon...</td>\n",
       "      <td>[[96, 2, 60, 60], [165, 2, 60, 60], [300, 153,...</td>\n",
       "      <td>[99, 495, 571, 881, 940]</td>\n",
       "      <td>[495, 571]</td>\n",
       "    </tr>\n",
       "    <tr>\n",
       "      <th>1</th>\n",
       "      <td>/Users/1024329/Downloads/DeepFashion/img_n/Hoo...</td>\n",
       "      <td>[[105, 5, 60, 60], [255, 3, 60, 60], [26, 195,...</td>\n",
       "      <td>[470, 953]</td>\n",
       "      <td>[470]</td>\n",
       "    </tr>\n",
       "    <tr>\n",
       "      <th>2</th>\n",
       "      <td>/Users/1024329/Downloads/DeepFashion/img_n/Rea...</td>\n",
       "      <td>[[126, 36, 60, 60], [244, 42, 60, 60], [67, 3,...</td>\n",
       "      <td>[745, 883]</td>\n",
       "      <td>[745, 883]</td>\n",
       "    </tr>\n",
       "    <tr>\n",
       "      <th>3</th>\n",
       "      <td>/Users/1024329/Downloads/DeepFashion/img_n/Flo...</td>\n",
       "      <td>[[67, 8, 60, 60], [217, 2, 60, 60], [24, 167, ...</td>\n",
       "      <td>[142, 306, 365]</td>\n",
       "      <td>[142, 365]</td>\n",
       "    </tr>\n",
       "    <tr>\n",
       "      <th>4</th>\n",
       "      <td>/Users/1024329/Downloads/DeepFashion/img_n/Bea...</td>\n",
       "      <td>[[51, 68, 60, 60], [280, 80, 60, 60], [25, 13,...</td>\n",
       "      <td>[50, 121, 122, 226, 681]</td>\n",
       "      <td>[226]</td>\n",
       "    </tr>\n",
       "  </tbody>\n",
       "</table>\n",
       "</div>"
      ],
      "text/plain": [
       "                                            img_name  \\\n",
       "0  /Users/1024329/Downloads/DeepFashion/img_n/Lon...   \n",
       "1  /Users/1024329/Downloads/DeepFashion/img_n/Hoo...   \n",
       "2  /Users/1024329/Downloads/DeepFashion/img_n/Rea...   \n",
       "3  /Users/1024329/Downloads/DeepFashion/img_n/Flo...   \n",
       "4  /Users/1024329/Downloads/DeepFashion/img_n/Bea...   \n",
       "\n",
       "                                           landmarks  \\\n",
       "0  [[96, 2, 60, 60], [165, 2, 60, 60], [300, 153,...   \n",
       "1  [[105, 5, 60, 60], [255, 3, 60, 60], [26, 195,...   \n",
       "2  [[126, 36, 60, 60], [244, 42, 60, 60], [67, 3,...   \n",
       "3  [[67, 8, 60, 60], [217, 2, 60, 60], [24, 167, ...   \n",
       "4  [[51, 68, 60, 60], [280, 80, 60, 60], [25, 13,...   \n",
       "\n",
       "                       atts select46_atts  \n",
       "0  [99, 495, 571, 881, 940]    [495, 571]  \n",
       "1                [470, 953]         [470]  \n",
       "2                [745, 883]    [745, 883]  \n",
       "3           [142, 306, 365]    [142, 365]  \n",
       "4  [50, 121, 122, 226, 681]         [226]  "
      ]
     },
     "execution_count": 296,
     "metadata": {},
     "output_type": "execute_result"
    }
   ],
   "source": [
    "df5.head()"
   ]
  },
  {
   "cell_type": "code",
   "execution_count": 38,
   "metadata": {},
   "outputs": [],
   "source": [
    "checkpoint = ModelCheckpoint(\"vgg16_1.h5\", monitor='val_loss', verbose=1, save_best_only=True, save_weights_only=False, mode='min', period=1)\n",
    "# model_classifier.fit(x = [X,X2],y= Y, batch_size=1, epochs=2,validation_split=0.2,callbacks = [checkpoint])"
   ]
  }
 ],
 "metadata": {
  "kernelspec": {
   "display_name": "Python 2",
   "language": "python",
   "name": "python2"
  },
  "language_info": {
   "codemirror_mode": {
    "name": "ipython",
    "version": 2
   },
   "file_extension": ".py",
   "mimetype": "text/x-python",
   "name": "python",
   "nbconvert_exporter": "python",
   "pygments_lexer": "ipython2",
   "version": "2.7.15"
  }
 },
 "nbformat": 4,
 "nbformat_minor": 2
}
